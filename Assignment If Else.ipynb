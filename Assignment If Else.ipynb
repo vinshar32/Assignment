{
 "cells": [
  {
   "cell_type": "code",
   "execution_count": 1,
   "id": "6f0be14e",
   "metadata": {},
   "outputs": [],
   "source": [
    "#take an input from user and extract last character of that string"
   ]
  },
  {
   "cell_type": "code",
   "execution_count": 17,
   "id": "5cf8aae2",
   "metadata": {},
   "outputs": [
    {
     "name": "stdout",
     "output_type": "stream",
     "text": [
      "Enter a input: Regex\n",
      "The last character is: x\n"
     ]
    }
   ],
   "source": [
    "x = input(\"Enter a input: \")\n",
    "\n",
    "if len(x) > 0:\n",
    "    lc = x[-1]\n",
    "    print(\"The last character is:\", lc)\n",
    "else:\n",
    "    print(\"The input string is empty.\")"
   ]
  },
  {
   "cell_type": "code",
   "execution_count": 4,
   "id": "e46f5f3d",
   "metadata": {},
   "outputs": [],
   "source": [
    "#Take an input from user  and extract  the second word from string"
   ]
  },
  {
   "cell_type": "code",
   "execution_count": 5,
   "id": "560b7de5",
   "metadata": {},
   "outputs": [
    {
     "name": "stdout",
     "output_type": "stream",
     "text": [
      "Enter a string: hi hope you are fine\n",
      "The second word is: hope\n"
     ]
    }
   ],
   "source": [
    "y = input(\"Enter a string: \")\n",
    "\n",
    "words = y.split()\n",
    "\n",
    "if len(words) >= 2:\n",
    "    second_word = words[1]\n",
    "    print(\"The second word is:\", second_word)\n",
    "else:\n",
    "    print(\"The input string does not have enough words.\")"
   ]
  },
  {
   "cell_type": "code",
   "execution_count": 6,
   "id": "1efb5ce7",
   "metadata": {},
   "outputs": [],
   "source": [
    "#Take the input and decide weather the number is even or odd"
   ]
  },
  {
   "cell_type": "code",
   "execution_count": 10,
   "id": "929af46a",
   "metadata": {},
   "outputs": [
    {
     "name": "stdout",
     "output_type": "stream",
     "text": [
      "Enter your number: 457\n",
      "It is an Odd no.\n"
     ]
    }
   ],
   "source": [
    "z = (int(input(\"Enter your number: \")))\n",
    "if z%2==0:\n",
    "    print (\"it is an even no\")\n",
    "else:\n",
    "    print(\"It is an Odd no.\")\n"
   ]
  },
  {
   "cell_type": "code",
   "execution_count": 11,
   "id": "00972635",
   "metadata": {},
   "outputs": [],
   "source": [
    "#check weather the number has divisiblity of 4"
   ]
  },
  {
   "cell_type": "code",
   "execution_count": 13,
   "id": "054aca7b",
   "metadata": {},
   "outputs": [
    {
     "name": "stdout",
     "output_type": "stream",
     "text": [
      "Enter your number: 18\n",
      "The number is not divisible by 4\n"
     ]
    }
   ],
   "source": [
    "a = (int(input(\"Enter your number: \")))\n",
    "if z%4==0:\n",
    "    print (\"The number is divisible by 4\")\n",
    "else:\n",
    "    print(\"The number is not divisible by 4\")\n"
   ]
  },
  {
   "cell_type": "code",
   "execution_count": 14,
   "id": "15dceb89",
   "metadata": {},
   "outputs": [],
   "source": [
    "# take a input from a user and find out how many characters are there"
   ]
  },
  {
   "cell_type": "code",
   "execution_count": 15,
   "id": "effe46df",
   "metadata": {},
   "outputs": [
    {
     "name": "stdout",
     "output_type": "stream",
     "text": [
      "Enter the input: Thiruvananthpuram\n",
      "17\n"
     ]
    }
   ],
   "source": [
    "b= (input(\"Enter the input: \"))\n",
    "print(len(b))"
   ]
  },
  {
   "cell_type": "code",
   "execution_count": null,
   "id": "8b533cbb",
   "metadata": {},
   "outputs": [],
   "source": [
    "# take a input from a user and find out how many characters are there are vowels and consonants"
   ]
  },
  {
   "cell_type": "code",
   "execution_count": 16,
   "id": "df1da2db",
   "metadata": {},
   "outputs": [
    {
     "name": "stdout",
     "output_type": "stream",
     "text": [
      "Enter any string value: Thiruvananthpuram\n",
      "Total Vowels 6\n",
      "Total Consonant 11\n"
     ]
    }
   ],
   "source": [
    "count_vowels=0\n",
    "count_consonant=0\n",
    "input1=input(\"Enter any string value: \")\n",
    "vowels='AEIOUaeiou'\n",
    "\n",
    "for i in input1:\n",
    "    if i in vowels:\n",
    "        count_vowels+=1\n",
    "    else:\n",
    "        count_consonant+=1\n",
    "print(\"Total Vowels\",count_vowels)\n",
    "print(\"Total Consonant\",count_consonant)\n",
    "        \n"
   ]
  },
  {
   "cell_type": "code",
   "execution_count": null,
   "id": "ae57d6c9",
   "metadata": {},
   "outputs": [],
   "source": []
  }
 ],
 "metadata": {
  "kernelspec": {
   "display_name": "Python 3 (ipykernel)",
   "language": "python",
   "name": "python3"
  },
  "language_info": {
   "codemirror_mode": {
    "name": "ipython",
    "version": 3
   },
   "file_extension": ".py",
   "mimetype": "text/x-python",
   "name": "python",
   "nbconvert_exporter": "python",
   "pygments_lexer": "ipython3",
   "version": "3.9.12"
  }
 },
 "nbformat": 4,
 "nbformat_minor": 5
}

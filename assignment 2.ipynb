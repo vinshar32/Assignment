{
 "cells": [
  {
   "cell_type": "code",
   "execution_count": 1,
   "id": "c749dddf",
   "metadata": {},
   "outputs": [],
   "source": [
    "#find either 2 inputs are equal or not (on basis of character)"
   ]
  },
  {
   "cell_type": "code",
   "execution_count": 10,
   "id": "4835b42c",
   "metadata": {},
   "outputs": [
    {
     "name": "stdout",
     "output_type": "stream",
     "text": [
      "Enter the first input: 55\n",
      "Enter the second input: 55\n",
      "Both inputs are equal\n"
     ]
    }
   ],
   "source": [
    "num1 = input(\"Enter the first input: \")\n",
    "num2 = input(\"Enter the second input: \")\n",
    "\n",
    "equal = True\n",
    "\n",
    "if len(num1) != len(num2):\n",
    "    equal = False\n",
    "else:\n",
    "    for i in range(len(num1)):\n",
    "        if num1[i] != num2[i]:\n",
    "            equal = False\n",
    "            break\n",
    "\n",
    "if equal:\n",
    "    print(\"Both inputs are equal\")\n",
    "else:\n",
    "    print(\"Inputs are not equal\")\n"
   ]
  },
  {
   "cell_type": "code",
   "execution_count": 4,
   "id": "c1fbe64f",
   "metadata": {},
   "outputs": [],
   "source": [
    "# take an input from user and count the spaces  in sentence"
   ]
  },
  {
   "cell_type": "code",
   "execution_count": 5,
   "id": "aae255fc",
   "metadata": {},
   "outputs": [
    {
     "name": "stdout",
     "output_type": "stream",
     "text": [
      "Enter a sentence: there are people of   moment\n",
      "Number of spaces in the sentence: 6\n"
     ]
    }
   ],
   "source": [
    "sentence = input(\"Enter a sentence: \")\n",
    "space_count = 0\n",
    "\n",
    "for char in sentence:\n",
    "    if char == \" \":\n",
    "        space_count += 1\n",
    "\n",
    "print(\"Number of spaces in the sentence:\", space_count)\n"
   ]
  },
  {
   "cell_type": "code",
   "execution_count": 6,
   "id": "32a8b419",
   "metadata": {},
   "outputs": [],
   "source": [
    "# take an input and find out weather year is leap year (last digit should be even and divided by 4)"
   ]
  },
  {
   "cell_type": "code",
   "execution_count": 11,
   "id": "3169eeca",
   "metadata": {},
   "outputs": [
    {
     "name": "stdout",
     "output_type": "stream",
     "text": [
      "Enter a year: 2006\n",
      "2006 is not a leap year\n"
     ]
    }
   ],
   "source": [
    "year = int(input(\"Enter a year: \"))\n",
    "\n",
    "last_digit = year % 10\n",
    "last_two_digits = year % 100\n",
    "\n",
    "is_leap_year = False\n",
    "\n",
    "if last_digit % 2 == 0 and last_two_digits % 4 == 0:\n",
    "    is_leap_year = True\n",
    "\n",
    "if is_leap_year:\n",
    "    print(year, \"is a leap year\")\n",
    "else:\n",
    "    print(year, \"is not a leap year\")\n",
    "\n"
   ]
  },
  {
   "cell_type": "code",
   "execution_count": null,
   "id": "c3ead78e",
   "metadata": {},
   "outputs": [],
   "source": []
  }
 ],
 "metadata": {
  "kernelspec": {
   "display_name": "Python 3 (ipykernel)",
   "language": "python",
   "name": "python3"
  },
  "language_info": {
   "codemirror_mode": {
    "name": "ipython",
    "version": 3
   },
   "file_extension": ".py",
   "mimetype": "text/x-python",
   "name": "python",
   "nbconvert_exporter": "python",
   "pygments_lexer": "ipython3",
   "version": "3.9.12"
  }
 },
 "nbformat": 4,
 "nbformat_minor": 5
}

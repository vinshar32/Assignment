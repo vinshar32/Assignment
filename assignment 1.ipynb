{
 "cells": [
  {
   "cell_type": "code",
   "execution_count": 38,
   "id": "a2ad7734",
   "metadata": {},
   "outputs": [
    {
     "name": "stdout",
     "output_type": "stream",
     "text": [
      "Enter your Data jaipur\n",
      "0 j\n",
      "2 i\n",
      "4 u\n"
     ]
    }
   ],
   "source": [
    "x = (input(\"Enter your Data \"))\n",
    "for index in range(0,len(x)):\n",
    "    if (index%2==0):\n",
    "        print(index, x[index])"
   ]
  },
  {
   "cell_type": "code",
   "execution_count": null,
   "id": "a0962400",
   "metadata": {},
   "outputs": [],
   "source": [
    "#take an input from user and extract last character of that string"
   ]
  },
  {
   "cell_type": "code",
   "execution_count": 26,
   "id": "d11f70cd",
   "metadata": {},
   "outputs": [
    {
     "name": "stdout",
     "output_type": "stream",
     "text": [
      "Enter a number: regex\n",
      "The last character is: x\n"
     ]
    }
   ],
   "source": [
    "x = input(\"Enter a number: \")\n",
    "\n",
    "if len(x) > 0:\n",
    "    lc = x[-1]\n",
    "    print(\"The last character is:\", lc)\n",
    "else:\n",
    "    print(\"The input string is empty.\")"
   ]
  },
  {
   "cell_type": "code",
   "execution_count": 27,
   "id": "a67d2380",
   "metadata": {},
   "outputs": [],
   "source": [
    "#Take an input from user  and extract  the second word from string"
   ]
  },
  {
   "cell_type": "code",
   "execution_count": 28,
   "id": "86809b1d",
   "metadata": {},
   "outputs": [
    {
     "name": "stdout",
     "output_type": "stream",
     "text": [
      "Enter a string: The number is one\n",
      "The second word is: number\n"
     ]
    }
   ],
   "source": [
    "y = input(\"Enter a string: \")\n",
    "\n",
    "words = y.split()\n",
    "\n",
    "if len(words) >= 2:\n",
    "    second_word = words[1]\n",
    "    print(\"The second word is:\", second_word)\n",
    "else:\n",
    "    print(\"The input string does not have enough words.\")"
   ]
  },
  {
   "cell_type": "code",
   "execution_count": 29,
   "id": "fe1750f9",
   "metadata": {},
   "outputs": [],
   "source": [
    "#Take the input and decide weather the number is even or odd"
   ]
  },
  {
   "cell_type": "code",
   "execution_count": 30,
   "id": "43dfe184",
   "metadata": {},
   "outputs": [
    {
     "name": "stdout",
     "output_type": "stream",
     "text": [
      "Enter your number: 45\n",
      "It is an Odd no.\n"
     ]
    }
   ],
   "source": [
    "z = (int(input(\"Enter your number: \")))\n",
    "if z%2==0:\n",
    "    print (\"it is an even no\")\n",
    "else:\n",
    "    print(\"It is an Odd no.\")\n"
   ]
  },
  {
   "cell_type": "code",
   "execution_count": 31,
   "id": "9523bf89",
   "metadata": {},
   "outputs": [],
   "source": [
    "#check weather the number has divisiblity of 4"
   ]
  },
  {
   "cell_type": "code",
   "execution_count": 32,
   "id": "4ed5de35",
   "metadata": {},
   "outputs": [
    {
     "name": "stdout",
     "output_type": "stream",
     "text": [
      "Enter your number: 445\n",
      "The number is not divisible by 4\n"
     ]
    }
   ],
   "source": [
    "a = (int(input(\"Enter your number: \")))\n",
    "if z%4==0:\n",
    "    print (\"The number is divisible by 4\")\n",
    "else:\n",
    "    print(\"The number is not divisible by 4\")\n"
   ]
  },
  {
   "cell_type": "code",
   "execution_count": 33,
   "id": "3567f4d1",
   "metadata": {},
   "outputs": [],
   "source": [
    "# take a input from a user and find out how many characters are there"
   ]
  },
  {
   "cell_type": "code",
   "execution_count": 34,
   "id": "06ff4d7a",
   "metadata": {},
   "outputs": [
    {
     "name": "stdout",
     "output_type": "stream",
     "text": [
      "Enter the input: 354545657\n",
      "9\n"
     ]
    }
   ],
   "source": [
    "b= (input(\"Enter the input: \"))\n",
    "print(len(b))"
   ]
  },
  {
   "cell_type": "code",
   "execution_count": 35,
   "id": "c704c5f1",
   "metadata": {},
   "outputs": [],
   "source": [
    "# take a input from a user and find out how many characters are there are vowels and consonants"
   ]
  },
  {
   "cell_type": "code",
   "execution_count": 36,
   "id": "ea23b756",
   "metadata": {},
   "outputs": [
    {
     "name": "stdout",
     "output_type": "stream",
     "text": [
      "Enter any string value: Thiruananth\n",
      "Total Vowels 4\n",
      "Total Consonant 7\n"
     ]
    }
   ],
   "source": [
    "count_vowels=0\n",
    "count_consonant=0\n",
    "input1=input(\"Enter any string value: \")\n",
    "vowels='AEIOUaeiou'\n",
    "\n",
    "for i in input1:\n",
    "    if i in vowels:\n",
    "        count_vowels+=1\n",
    "    else:\n",
    "        count_consonant+=1\n",
    "print(\"Total Vowels\",count_vowels)\n",
    "print(\"Total Consonant\",count_consonant)\n",
    "        "
   ]
  },
  {
   "cell_type": "code",
   "execution_count": 39,
   "id": "a01a5e17",
   "metadata": {},
   "outputs": [],
   "source": [
    "# print input's odd position character"
   ]
  },
  {
   "cell_type": "code",
   "execution_count": 40,
   "id": "c71ad8b8",
   "metadata": {},
   "outputs": [
    {
     "name": "stdout",
     "output_type": "stream",
     "text": [
      "Enter your Data thiruvananthpuram\n",
      "1 h\n",
      "3 r\n",
      "5 v\n",
      "7 n\n",
      "9 n\n",
      "11 h\n",
      "13 u\n",
      "15 a\n"
     ]
    }
   ],
   "source": [
    "x = (input(\"Enter your Data \"))\n",
    "for index in range(0,len(x)):\n",
    "    if (index%2!=0):\n",
    "        print(index, x[index])"
   ]
  },
  {
   "cell_type": "code",
   "execution_count": 41,
   "id": "432d622e",
   "metadata": {},
   "outputs": [
    {
     "name": "stdout",
     "output_type": "stream",
     "text": [
      "Enter any string value: alaska\n",
      "Total Vowels 3\n",
      "Total Consonant 3\n",
      "1 l\n",
      "3 s\n",
      "5 a\n"
     ]
    }
   ],
   "source": [
    "count_vowels=0\n",
    "count_consonant=0\n",
    "inpi=input(\"Enter any string value: \")\n",
    "vowels='AEIOUaeiou'\n",
    "\n",
    "for i in inpi:\n",
    "    if i in vowels:\n",
    "        count_vowels+=1\n",
    "    else:\n",
    "        count_consonant+=1\n",
    "print(\"Total Vowels\",count_vowels)\n",
    "print(\"Total Consonant\",count_consonant)\n",
    "\n",
    "for index in range(0,len(inpi)):\n",
    "    if (index%2!=0):\n",
    "        print(index, inpi[index])"
   ]
  },
  {
   "cell_type": "code",
   "execution_count": 42,
   "id": "4d58f6e4",
   "metadata": {},
   "outputs": [],
   "source": [
    "# find out the total no. from 1 to 100 divisible by 7"
   ]
  },
  {
   "cell_type": "code",
   "execution_count": 43,
   "id": "bad56794",
   "metadata": {},
   "outputs": [
    {
     "name": "stdout",
     "output_type": "stream",
     "text": [
      "0 is divisible by 7\n",
      "7 is divisible by 7\n",
      "14 is divisible by 7\n",
      "21 is divisible by 7\n",
      "28 is divisible by 7\n",
      "35 is divisible by 7\n",
      "42 is divisible by 7\n",
      "49 is divisible by 7\n",
      "56 is divisible by 7\n",
      "63 is divisible by 7\n",
      "70 is divisible by 7\n",
      "77 is divisible by 7\n",
      "84 is divisible by 7\n",
      "91 is divisible by 7\n",
      "98 is divisible by 7\n"
     ]
    }
   ],
   "source": [
    "i=0\n",
    "while i<=100:\n",
    "    if (i%7==0):\n",
    "        print(i,\"is divisible by 7\")\n",
    "    i+=1\n",
    "    "
   ]
  },
  {
   "cell_type": "code",
   "execution_count": 44,
   "id": "0f3cf4d7",
   "metadata": {},
   "outputs": [],
   "source": [
    "# find even numbers from 1 to 100"
   ]
  },
  {
   "cell_type": "code",
   "execution_count": 45,
   "id": "4dfbac06",
   "metadata": {},
   "outputs": [
    {
     "name": "stdout",
     "output_type": "stream",
     "text": [
      "0 is an even number\n",
      "2 is an even number\n",
      "4 is an even number\n",
      "6 is an even number\n",
      "8 is an even number\n",
      "10 is an even number\n",
      "12 is an even number\n",
      "14 is an even number\n",
      "16 is an even number\n",
      "18 is an even number\n",
      "20 is an even number\n",
      "22 is an even number\n",
      "24 is an even number\n",
      "26 is an even number\n",
      "28 is an even number\n",
      "30 is an even number\n",
      "32 is an even number\n",
      "34 is an even number\n",
      "36 is an even number\n",
      "38 is an even number\n",
      "40 is an even number\n",
      "42 is an even number\n",
      "44 is an even number\n",
      "46 is an even number\n",
      "48 is an even number\n",
      "50 is an even number\n",
      "52 is an even number\n",
      "54 is an even number\n",
      "56 is an even number\n",
      "58 is an even number\n",
      "60 is an even number\n",
      "62 is an even number\n",
      "64 is an even number\n",
      "66 is an even number\n",
      "68 is an even number\n",
      "70 is an even number\n",
      "72 is an even number\n",
      "74 is an even number\n",
      "76 is an even number\n",
      "78 is an even number\n",
      "80 is an even number\n",
      "82 is an even number\n",
      "84 is an even number\n",
      "86 is an even number\n",
      "88 is an even number\n",
      "90 is an even number\n",
      "92 is an even number\n",
      "94 is an even number\n",
      "96 is an even number\n",
      "98 is an even number\n"
     ]
    }
   ],
   "source": [
    "i=0\n",
    "while i<100:\n",
    "    if (i%2==0):\n",
    "        print(i,\"is an even number\")\n",
    "    i+=1"
   ]
  },
  {
   "cell_type": "code",
   "execution_count": 46,
   "id": "125ea8c3",
   "metadata": {},
   "outputs": [],
   "source": [
    "# find out the total no. from 1 to 100 divisible by 7 and 9"
   ]
  },
  {
   "cell_type": "code",
   "execution_count": 47,
   "id": "0d0d853b",
   "metadata": {},
   "outputs": [
    {
     "name": "stdout",
     "output_type": "stream",
     "text": [
      "0 is divisible by 7 as well as 9\n",
      "63 is divisible by 7 as well as 9\n"
     ]
    }
   ],
   "source": [
    "i=0\n",
    "while i<=100:\n",
    "    if (i%7==0 and i%9==0):\n",
    "        print(i,\"is divisible by 7 as well as 9\")\n",
    "    i+=1\n",
    "    "
   ]
  },
  {
   "cell_type": "code",
   "execution_count": 48,
   "id": "63727383",
   "metadata": {},
   "outputs": [],
   "source": [
    "# find out wether the number is divisible by 3 or not"
   ]
  },
  {
   "cell_type": "code",
   "execution_count": 49,
   "id": "9c84a259",
   "metadata": {},
   "outputs": [
    {
     "name": "stdout",
     "output_type": "stream",
     "text": [
      "Enter a number: 435\n",
      "12\n",
      "The number is divisible by 3.\n"
     ]
    }
   ],
   "source": [
    "xyz = int(input(\"Enter a number: \"))\n",
    "\n",
    "\n",
    "ds11 = sum(int(digit) for digit in str(xyz))\n",
    "\n",
    "print(ds11)\n",
    "if ds11 % 3 == 0:\n",
    "    print(\"The number is divisible by 3.\")\n",
    "else:\n",
    "    print(\"The number is not divisible by 3.\")\n"
   ]
  },
  {
   "cell_type": "code",
   "execution_count": 50,
   "id": "f61576ba",
   "metadata": {},
   "outputs": [],
   "source": [
    "#check from input "
   ]
  },
  {
   "cell_type": "code",
   "execution_count": 51,
   "id": "f2b6518c",
   "metadata": {},
   "outputs": [
    {
     "name": "stdout",
     "output_type": "stream",
     "text": [
      "Enter the first number: 564\n",
      "Enter the second number: 666\n",
      "Both numbers are divisible by both 4 and 6 respectively.\n"
     ]
    }
   ],
   "source": [
    "first = int(input(\"Enter the first number: \"))\n",
    "second = int(input(\"Enter the second number: \"))\n",
    "\n",
    "\n",
    "divisible_by_4 = first % 4 == 0\n",
    "divisible_by_6 = second % 6 == 0\n",
    "not_divisible_by_4=first % 4 != 0\n",
    "not_divisible_by_6=first % 6 != 0\n",
    "\n",
    "\n",
    "if divisible_by_4 and divisible_by_6:\n",
    "    print(\"Both numbers are divisible by both 4 and 6 respectively.\")\n",
    "elif divisible_by_4 and not_divisible_by_6:\n",
    "    print(\"The first number is divisible by 4 but second number is not divisible by 6\")\n",
    "elif divisible_by_6 and not_divisible_by_4:\n",
    "    print(\"The second number is divisible by 6 but first number is not divisible by 4\")\n",
    "else:\n",
    "    print(\"Neither number is divisible by 4 or 6.\")\n",
    "\n"
   ]
  },
  {
   "cell_type": "code",
   "execution_count": 52,
   "id": "135d7adb",
   "metadata": {},
   "outputs": [],
   "source": [
    "#take a variable and find on variable condition"
   ]
  },
  {
   "cell_type": "code",
   "execution_count": 54,
   "id": "2e2fcccc",
   "metadata": {},
   "outputs": [
    {
     "name": "stdout",
     "output_type": "stream",
     "text": [
      "enter your no.  41\n",
      "Variable is greater than 40\n"
     ]
    }
   ],
   "source": [
    "varr = (int(input(\"enter your no.  \")))\n",
    "if ( varr > 40):\n",
    "    print(\"Variable is greater than 40\")\n",
    "elif(30 < varr < 40):\n",
    "    print(\"Variable is greater than 30 but less than 40\")\n",
    "elif(varr == 23):\n",
    "    print(\"Variable is equal to 23\")\n",
    "elif(20 < varr):\n",
    "    print(\"Variable is greater than 20\")"
   ]
  },
  {
   "cell_type": "code",
   "execution_count": 55,
   "id": "87b9ba7d",
   "metadata": {},
   "outputs": [],
   "source": [
    "#calculate total vowels repated over time in given input"
   ]
  },
  {
   "cell_type": "code",
   "execution_count": 57,
   "id": "a08c5d3e",
   "metadata": {},
   "outputs": [
    {
     "name": "stdout",
     "output_type": "stream",
     "text": [
      "Enter a string: Ananaya\n",
      "The vowel 'a' appears 4 time(s).\n"
     ]
    }
   ],
   "source": [
    "enter = input(\"Enter a string: \")\n",
    "\n",
    "enter = enter.lower()\n",
    "a_count = 0\n",
    "e_count = 0\n",
    "i_count = 0\n",
    "o_count = 0\n",
    "u_count = 0\n",
    "for char in enter:\n",
    "    if char == 'a':\n",
    "        a_count += 1\n",
    "    if char == 'e':\n",
    "        e_count += 1\n",
    "    if char == 'i':\n",
    "        i_count += 1\n",
    "    if char == 'o':\n",
    "        o_count += 1\n",
    "    if char == 'u':\n",
    "        u_count += 1\n",
    "\n",
    "if a_count > 0:\n",
    "    print(\"The vowel 'a' appears\", a_count, \"time(s).\")\n",
    "if e_count > 0:\n",
    "    print(\"The vowel 'e' appears\", e_count, \"time(s).\")\n",
    "if i_count > 0:\n",
    "    print(\"The vowel 'i' appears\", i_count, \"time(s).\")\n",
    "if o_count > 0:\n",
    "    print(\"The vowel 'o' appears\", o_count, \"time(s).\")\n",
    "if u_count > 0:\n",
    "    print(\"The vowel 'u' appears\", u_count, \"time(s).\")\n",
    "\n"
   ]
  },
  {
   "cell_type": "code",
   "execution_count": null,
   "id": "383bdc7e",
   "metadata": {},
   "outputs": [],
   "source": []
  }
 ],
 "metadata": {
  "kernelspec": {
   "display_name": "Python 3 (ipykernel)",
   "language": "python",
   "name": "python3"
  },
  "language_info": {
   "codemirror_mode": {
    "name": "ipython",
    "version": 3
   },
   "file_extension": ".py",
   "mimetype": "text/x-python",
   "name": "python",
   "nbconvert_exporter": "python",
   "pygments_lexer": "ipython3",
   "version": "3.9.12"
  }
 },
 "nbformat": 4,
 "nbformat_minor": 5
}

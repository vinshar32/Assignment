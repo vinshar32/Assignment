{
 "cells": [
  {
   "cell_type": "code",
   "execution_count": 5,
   "id": "428b3ee2",
   "metadata": {},
   "outputs": [
    {
     "name": "stdout",
     "output_type": "stream",
     "text": [
      "Elements divisible by 2 or 3: [2, 3, 4, 6, 8, 9, 10, 40, 30]\n",
      "Other elements: [1, 5, 7, 'hii', 'Hilooo', 2.2, 2.0, 4.0, 15.0]\n"
     ]
    }
   ],
   "source": [
    "\n",
    "my_tuple = (1, 2, 3, 4, 5, 6, 7, 8, 9, 10,\"hii\",\"Hilooo\",2.2,2.0,4.0,40,30,15.00)\n",
    "\n",
    "normal = []\n",
    "not_normal = []\n",
    "\n",
    "for element in my_tuple:\n",
    "    if (type(element)==int):\n",
    "        if element % 2 == 0 or element % 3 == 0:\n",
    "            normal.append(element)\n",
    "        else:\n",
    "            not_normal.append(element)\n",
    "    else:\n",
    "        not_normal.append(element)\n",
    "\n",
    "print(\"Elements divisible by 2 or 3:\", normal)\n",
    "print(\"Other elements:\", not_normal)\n"
   ]
  },
  {
   "cell_type": "code",
   "execution_count": 6,
   "id": "1e866b91",
   "metadata": {},
   "outputs": [
    {
     "name": "stdout",
     "output_type": "stream",
     "text": [
      "Strings with more than two vowels: ['banana', 'elephant', 'orange']\n"
     ]
    }
   ],
   "source": [
    "input_strings = [\"hello\", \"world\", \"apple\", \"banana\", \"cat\", \"elephant\", \"orange\"]\n",
    "vowellist = []\n",
    "\n",
    "vowels = \"aeiouAEIOU\"\n",
    "\n",
    "for word in input_strings:\n",
    "    vowel_count = 0\n",
    "    for char in word:\n",
    "        if char in vowels:\n",
    "            vowel_count += 1\n",
    "    if vowel_count > 2:\n",
    "        vowellist.append(word)\n",
    "\n",
    "print(\"Strings with more than two vowels:\", vowellist)\n"
   ]
  },
  {
   "cell_type": "code",
   "execution_count": 7,
   "id": "981a696b",
   "metadata": {},
   "outputs": [
    {
     "name": "stdout",
     "output_type": "stream",
     "text": [
      "List after removing non-float elements and elements with vowels: [3.14, 5.6, 7.8, 10.2, 12.5]\n"
     ]
    }
   ],
   "source": [
    "input_list = [\"hello\", 3.14, \"world\", 5.6, \"apple\", 7.8, \"banana\", 10.2, \"cat\", 12.5]\n",
    "\n",
    "vowels = \"aeiouAEIOU\"\n",
    "index = 0\n",
    "\n",
    "while index < len(input_list):\n",
    "    element = input_list[index]\n",
    "    \n",
    "    if isinstance(element, float):\n",
    "        vowel_present = False\n",
    "        for char in str(element):\n",
    "            if char in vowels:\n",
    "                vowel_present = True\n",
    "                break\n",
    "        \n",
    "        if not vowel_present:\n",
    "            index += 1\n",
    "        else:\n",
    "            input_list.pop(index)\n",
    "    else:\n",
    "        input_list.pop(index)\n",
    "\n",
    "print(\"List after removing non-float elements and elements with vowels:\", input_list)\n"
   ]
  },
  {
   "cell_type": "code",
   "execution_count": 8,
   "id": "094483bf",
   "metadata": {},
   "outputs": [
    {
     "name": "stdout",
     "output_type": "stream",
     "text": [
      "Unique elements: [2, 5, 6, 7, 8, 9]\n",
      "Duplicates: [1, 3, 4]\n"
     ]
    }
   ],
   "source": [
    "input_list = [1, 2, 3, 4, 3, 5, 6, 4, 7, 8, 9, 1]\n",
    "unique_elements = []\n",
    "duplicates = []\n",
    "\n",
    "for item in input_list:\n",
    "    if input_list.count(item) > 1 and item not in duplicates:\n",
    "        duplicates.append(item)\n",
    "    elif input_list.count(item) == 1:\n",
    "        unique_elements.append(item)\n",
    "\n",
    "print(\"Unique elements:\", unique_elements)\n",
    "print(\"Duplicates:\", duplicates)\n"
   ]
  },
  {
   "cell_type": "code",
   "execution_count": null,
   "id": "ae1ce09b",
   "metadata": {},
   "outputs": [],
   "source": []
  }
 ],
 "metadata": {
  "kernelspec": {
   "display_name": "Python 3 (ipykernel)",
   "language": "python",
   "name": "python3"
  },
  "language_info": {
   "codemirror_mode": {
    "name": "ipython",
    "version": 3
   },
   "file_extension": ".py",
   "mimetype": "text/x-python",
   "name": "python",
   "nbconvert_exporter": "python",
   "pygments_lexer": "ipython3",
   "version": "3.9.12"
  }
 },
 "nbformat": 4,
 "nbformat_minor": 5
}
